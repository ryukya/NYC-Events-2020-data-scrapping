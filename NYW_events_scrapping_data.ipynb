{
  "nbformat": 4,
  "nbformat_minor": 0,
  "metadata": {
    "colab": {
      "name": "NYW events scrapping data",
      "provenance": [],
      "authorship_tag": "ABX9TyMA16EQna85vL9hLNpeJBkQ",
      "include_colab_link": true
    },
    "kernelspec": {
      "name": "python3",
      "display_name": "Python 3"
    }
  },
  "cells": [
    {
      "cell_type": "markdown",
      "metadata": {
        "id": "view-in-github",
        "colab_type": "text"
      },
      "source": [
        "<a href=\"https://colab.research.google.com/github/ryukya/NYC-Events-2020-data-scrapping/blob/main/NYW_events_scrapping_data.ipynb\" target=\"_parent\"><img src=\"https://colab.research.google.com/assets/colab-badge.svg\" alt=\"Open In Colab\"/></a>"
      ]
    },
    {
      "cell_type": "markdown",
      "metadata": {
        "id": "i6OvjivCtsSm"
      },
      "source": [
        "# Events scrapping for May and June 2020\n",
        "Source: https://www.nycgovparks.org/events/f2020-05-01/t2020-06-30"
      ]
    },
    {
      "cell_type": "markdown",
      "metadata": {
        "id": "zGldBWcXtVUf"
      },
      "source": [
        "Reference for scrapping:\n",
        "\n",
        "\n",
        "1.   https://kshivan848.medium.com/web-scraping-using-python-and-beautifulsoup-c71aaaae4ec3\n",
        "2.   https://hackersandslackers.com/scraping-urls-with-beautifulsoup/\n",
        "3. https://www.edureka.co/blog/web-scraping-with-python/\n",
        "\n",
        "\n"
      ]
    },
    {
      "cell_type": "code",
      "metadata": {
        "colab": {
          "base_uri": "https://localhost:8080/"
        },
        "id": "rV6TLINSJph3",
        "outputId": "ebab5910-aff9-4e13-aae0-8d4e9056f9f5"
      },
      "source": [
        "!pip install requests"
      ],
      "execution_count": 71,
      "outputs": [
        {
          "output_type": "stream",
          "text": [
            "Requirement already satisfied: requests in /usr/local/lib/python3.6/dist-packages (2.23.0)\n",
            "Requirement already satisfied: chardet<4,>=3.0.2 in /usr/local/lib/python3.6/dist-packages (from requests) (3.0.4)\n",
            "Requirement already satisfied: urllib3!=1.25.0,!=1.25.1,<1.26,>=1.21.1 in /usr/local/lib/python3.6/dist-packages (from requests) (1.24.3)\n",
            "Requirement already satisfied: idna<3,>=2.5 in /usr/local/lib/python3.6/dist-packages (from requests) (2.10)\n",
            "Requirement already satisfied: certifi>=2017.4.17 in /usr/local/lib/python3.6/dist-packages (from requests) (2020.11.8)\n"
          ],
          "name": "stdout"
        }
      ]
    },
    {
      "cell_type": "code",
      "metadata": {
        "colab": {
          "base_uri": "https://localhost:8080/"
        },
        "id": "SYYxbyEuKuE6",
        "outputId": "06ce3f1b-ebc6-44a2-f28c-e6ea29fe8da6"
      },
      "source": [
        "!pip install beautifulsoup4"
      ],
      "execution_count": 72,
      "outputs": [
        {
          "output_type": "stream",
          "text": [
            "Requirement already satisfied: beautifulsoup4 in /usr/local/lib/python3.6/dist-packages (4.6.3)\n"
          ],
          "name": "stdout"
        }
      ]
    },
    {
      "cell_type": "code",
      "metadata": {
        "id": "_tnCmwbxKwrR"
      },
      "source": [
        "import numpy as np\n",
        "import pandas as pd\n",
        "import requests\n",
        "import bs4\n",
        "import lxml.etree as xml"
      ],
      "execution_count": 73,
      "outputs": []
    },
    {
      "cell_type": "markdown",
      "metadata": {
        "id": "Bff3psQuONFw"
      },
      "source": [
        "#Data from NYCGOVPARKS for 2020 05-06"
      ]
    },
    {
      "cell_type": "code",
      "metadata": {
        "id": "m8vfDgNWLnFG"
      },
      "source": [
        "URL = \"https://www.nycgovparks.org/events/f2020-05-01/t2020-06-30\"\n",
        "\n",
        "web_page_text = requests.get(URL).text\n",
        "web_page = bs4.BeautifulSoup(web_page_text, \"lxml\")\n"
      ],
      "execution_count": 74,
      "outputs": []
    },
    {
      "cell_type": "code",
      "metadata": {
        "id": "09dSSuhcsWXp"
      },
      "source": [
        ""
      ],
      "execution_count": null,
      "outputs": []
    },
    {
      "cell_type": "code",
      "metadata": {
        "colab": {
          "base_uri": "https://localhost:8080/"
        },
        "id": "DkiT7cV2kXoq",
        "outputId": "dd0fe617-8cae-48e8-86b5-153d51a3a538"
      },
      "source": [
        "event_obj = web_page.find_all(name=\"div\", attrs={\"itemtype\": \"http://schema.org/Event\"})\n",
        "records = []  \n",
        "for result in event_obj:  \n",
        "    title = result.find('a').text\n",
        "    date = result.find('a')['href'][8:19]\n",
        "    startDt = result.find(name=\"meta\", attrs={\"itemprop\": \"startDate\"}).get('content')\n",
        "    endDt = result.find(name=\"meta\", attrs={\"itemprop\": \"endDate\"}).get('content')\n",
        "    borough_loc = result.find(name=\"span\", attrs={\"itemprop\": \"addressLocality\"})\n",
        "    if borough_loc is not None:\n",
        "      borough_loc = borough_loc.text\n",
        "    event_loc = result.find(name=\"span\", attrs={\"itemprop\": \"name\"})\n",
        "    if event_loc is not None:\n",
        "      event_loc = event_loc.text\n",
        "    records.append((title, date, startDt, endDt, borough_loc, event_loc))\n",
        "records[0:2]"
      ],
      "execution_count": 75,
      "outputs": [
        {
          "output_type": "execute_result",
          "data": {
            "text/plain": [
              "[(\"CANCELLED: Arsenal Gallery: Alice Momm: The Gleaner's Song\",\n",
              "  '2020/05/01/',\n",
              "  '2020-05-01T09:00:00-04:00',\n",
              "  '2020-05-01T17:00:00-04:00',\n",
              "  'Manhattan',\n",
              "  'Arsenal'),\n",
              " ('CANCELLED: Central Park Tour: Iconic Views of Central Park',\n",
              "  '2020/05/01/',\n",
              "  '2020-05-01T10:00:00-04:00',\n",
              "  '2020-05-01T11:30:00-04:00',\n",
              "  'Manhattan',\n",
              "  'Dairy Visitor Center & Gift Shop')]"
            ]
          },
          "metadata": {
            "tags": []
          },
          "execution_count": 75
        }
      ]
    }
  ]
}